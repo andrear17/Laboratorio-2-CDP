{
 "cells": [
  {
   "cell_type": "markdown",
   "metadata": {},
   "source": [
    "# **Laboratorio 2 - Git**\n",
    "\n",
    "\n",
    "##### *Andrea Cecilia Rivas Castañeda - 16001120*"
   ]
  },
  {
   "cell_type": "markdown",
   "metadata": {},
   "source": [
    "Git es sistema de control de versiones (VCSs) que facilita la gestión y control de:\n",
    "* Versiones de código\n",
    "    + Control de avances y versiones de código\n",
    "    + Registro ordenado de cambios\n",
    "    + Experimentar con distintas versiones de un mismo proyecto\n",
    "    + Revertir cambios  \n",
    "* Creación y alojamiento de repositorios\n",
    "    + Colección de archivos y carpetas\n",
    "* Planificar proyectos\n",
    "    + Facilitan la colaboración\n",
    "    + Agregar comentarios o mensajes\n",
    "\n",
    "También facilita identificar y responder:\n",
    "* ¿Quién escribió cada módulo?\n",
    "* ¿Cuándo se editó por última vez el documento?\n",
    " + ¿Por qué fue editado y por quién?\n",
    "* ¿En qué versión dejo de funcionar un módulo?\n",
    "\n",
    "\n",
    "## Terminología:\n",
    "* __Blob__: archivo\n",
    "* __Árbol__: directorio _(el directorio puede contener archivis u otros directorios)_\n",
    "* __Instantánea__: es el árbol de nivel superior que se está rastreando.\n",
    "* __Objetos__: se puede referir a _blobs, árboles o commits (son inmutables)_\n",
    "* __Referencias__: son indicadores de confiemaciones _(son mutables - se puede actualizar para señalar una nueva confirmación)_"
   ]
  },
  {
   "cell_type": "markdown",
   "metadata": {},
   "source": [
    "## **Comandos**\n",
    "#### Comandos básicos:\n",
    "* __git help <'command'>__: obtener información sobre ell comando especificado.\n",
    "* __git init__: crear un nuevo repositorio git\n",
    "* __git status__: obtener el estatus del repositorio\n",
    "* __git add__: agregar uno o más archivos al repositorio\n",
    "* __git commit__: crear un nuevo commmit\n",
    "* __git log__: despliega el historial de versiones\n",
    "* __git clone__: clonar un repositorio existente\n",
    "\n",
    "#### Comandos avanzados:\n",
    "* __git config__: configuarar las preferencias\n",
    "* __git stash__: eliminar temporalmente las modificaciones al directorio de trabajo\n",
    "* __git blame__: despliega quien fue el último en editar"
   ]
  },
  {
   "cell_type": "markdown",
   "metadata": {},
   "source": [
    "## **Herramientas**\n",
    "<div>\n",
    "    \n",
    "|Hermmanienta         | Descripción |\n",
    "| ----------- | ----------- |\n",
    "| <img width=\"500\" src=\"https://upload.wikimedia.org/wikipedia/commons/e/ef/Octicons-logo-github.svg\">      | Esta herramienta ayuda a mantener un historial de los cambios realizados durante la creación y gestión del proyecto. Por lo que permite tener un registro de cada uno de los cambios realizados. También es conocida como una \"red social\" para desarrolladores, ya que permite trabajar en colaboración con otras personas. Permite que dos o más personas  trabajen en un mismo proyecto al mismo tiempo, para fusionar los cambios realizados.           |\n",
    "|<img  width=\"80\" src=\"https://upload.wikimedia.org/wikipedia/commons/a/ae/Github-desktop-logo-symbol.svg\"> | Es la aplicación de escritorio de Git Hub. Es una interfaz gráfica de usuario diseñada para facilitar el uso de Git. Permite al usuario interactuar con el programa de una forma visual, por lo que ya no es necesario interactuar con la terminal. |\n",
    "    \n",
    "</div>"
   ]
  },
  {
   "cell_type": "markdown",
   "metadata": {},
   "source": [
    "## **Referencias:**\n",
    "1. https://missing.csail.mit.edu/2020/version-control/\n",
    "2. https://desktop.github.com/\n",
    "3. https://git-scm.com/book/en/v2"
   ]
  }
 ],
 "metadata": {
  "kernelspec": {
   "display_name": "Python 3",
   "language": "python",
   "name": "python3"
  },
  "language_info": {
   "codemirror_mode": {
    "name": "ipython",
    "version": 3
   },
   "file_extension": ".py",
   "mimetype": "text/x-python",
   "name": "python",
   "nbconvert_exporter": "python",
   "pygments_lexer": "ipython3",
   "version": "3.8.5"
  }
 },
 "nbformat": 4,
 "nbformat_minor": 4
}
