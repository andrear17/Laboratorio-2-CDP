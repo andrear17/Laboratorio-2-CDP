{
 "cells": [
  {
   "cell_type": "markdown",
   "metadata": {},
   "source": [
    "# Laboratorio 2\n",
    "\n",
    "### Andrea Cecilia Rivas Castañeda\n",
    "### 16001120"
   ]
  },
  {
   "cell_type": "markdown",
   "metadata": {},
   "source": [
    "#### Comandos básicos:\n",
    "* __git help <'command'>__: obtener información sobre ell comando especificado.\n",
    "* __git init__: crear un nuevo repositorio git\n",
    "* __git status__: obtener el estatus del repositorio\n",
    "* __git add__: agregar un archivo \n",
    "* __git commit__: crear un nuevo commmit"
   ]
  }
 ],
 "metadata": {
  "kernelspec": {
   "display_name": "Python 3",
   "language": "python",
   "name": "python3"
  },
  "language_info": {
   "codemirror_mode": {
    "name": "ipython",
    "version": 3
   },
   "file_extension": ".py",
   "mimetype": "text/x-python",
   "name": "python",
   "nbconvert_exporter": "python",
   "pygments_lexer": "ipython3",
   "version": "3.8.5"
  }
 },
 "nbformat": 4,
 "nbformat_minor": 4
}
